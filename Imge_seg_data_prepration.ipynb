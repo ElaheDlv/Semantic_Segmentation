{
 "cells": [
  {
   "cell_type": "code",
   "execution_count": 1,
   "metadata": {},
   "outputs": [],
   "source": [
    "import numpy as np\n",
    "import cv2\n",
    "import os\n",
    "import matplotlib.pyplot as plt"
   ]
  },
  {
   "cell_type": "markdown",
   "metadata": {},
   "source": [
    "## Change the color code platte "
   ]
  },
  {
   "cell_type": "code",
   "execution_count": 2,
   "metadata": {},
   "outputs": [],
   "source": [
    "colors_platte = np.array([\n",
    "    [0, 0, 0],        # Unlabeled\n",
    "    [70, 70, 70],     # Building\n",
    "    [100, 40, 40],    # Fence\n",
    "    [55, 90, 80],     # Other\n",
    "    [220, 20, 60],    # Pedestrian\n",
    "    [153, 153, 153],  # Pole\n",
    "    [157, 234, 50],   # RoadLine\n",
    "    [128, 64, 128],   # Road\n",
    "    [244, 35, 232],   # SideWalk\n",
    "    [107, 142, 35],   # Vegetation\n",
    "    [0, 0, 142],      # Vehicles\n",
    "    [102, 102, 156],  # Wall\n",
    "    [220, 220, 0],    # TrafficSign\n",
    "    [70, 130, 180],   # Sky\n",
    "    [81, 0, 81],      # Ground\n",
    "    [150, 100, 100],  # Bridge\n",
    "    [230, 150, 140],  # RailTrack\n",
    "    [180, 165, 180],  # GuardRail\n",
    "    [250, 170, 30],   # TrafficLight\n",
    "    [110, 190, 160],  # Static\n",
    "    [170, 120, 50],   # Dynamic\n",
    "    [45, 60, 150],    # Water\n",
    "    [145, 170, 100]   # Terrain\n",
    "])\n"
   ]
  },
  {
   "cell_type": "code",
   "execution_count": 3,
   "metadata": {},
   "outputs": [],
   "source": [
    "# Define the color palette and corresponding labels\n",
    "\n",
    "# Create a mapping from RGB colors to class indices\n",
    "color_to_index = {tuple(color): idx for idx, color in enumerate(colors_platte)}\n",
    "\n",
    "def color_to_label(mask):\n",
    "    label_mask = np.zeros(mask.shape[:2], dtype=np.uint8)\n",
    "    for color, idx in color_to_index.items():\n",
    "        label_mask[np.all(mask == color, axis=-1)] = idx\n",
    "    return label_mask\n",
    "\n",
    "# Path to the directory containing the color masks\n",
    "masks_dir = '/home/elahed/users/elahe/segmentation/segment_3/seg'\n",
    "\n",
    "# Path to save the label masks\n",
    "label_masks_dir = '/home/elahed/users/elahe/segmentation/segment_3/label_masks'\n",
    "os.makedirs(label_masks_dir, exist_ok=True)\n",
    "\n",
    "# Convert all masks in the directory\n",
    "for mask_name in os.listdir(masks_dir):\n",
    "    mask_path = os.path.join(masks_dir, mask_name)\n",
    "    mask = cv2.imread(mask_path)\n",
    "    mask_rgb = cv2.cvtColor(mask, cv2.COLOR_BGR2RGB)\n",
    "    label_mask = color_to_label(mask_rgb)\n",
    "    label_mask_path = os.path.join(label_masks_dir, mask_name)\n",
    "    cv2.imwrite(label_mask_path, label_mask)"
   ]
  },
  {
   "cell_type": "code",
   "execution_count": 4,
   "metadata": {},
   "outputs": [],
   "source": [
    "# Create a mapping from label indices to RGB colors\n",
    "index_to_color = {idx: color for idx, color in enumerate(colors_platte)}\n",
    "\n",
    "def label_to_color(label_mask):\n",
    "    color_image = np.zeros((*label_mask.shape, 3), dtype=np.uint8)\n",
    "    for idx, color in index_to_color.items():\n",
    "        color_image[label_mask == idx] = color\n",
    "    return color_image\n",
    "\n",
    "\n",
    "# Path to the directory containing the label masks\n",
    "label_masks_dir = '/home/elahed/users/elahe/segmentation/segment_3/label_masks'\n",
    "\n",
    "# Path to save the color images\n",
    "color_images_dir = '/home/elahed/users/elahe/segmentation/segment_3/color_images'\n",
    "os.makedirs(color_images_dir, exist_ok=True)\n",
    "\n",
    "# Convert all label masks in the directory back to color images\n",
    "for mask_name in os.listdir(label_masks_dir):\n",
    "    mask_path = os.path.join(label_masks_dir, mask_name)\n",
    "    label_mask = cv2.imread(mask_path, cv2.IMREAD_GRAYSCALE)\n",
    "    \n",
    "    if label_mask is None:\n",
    "        raise ValueError(f\"Image not found or path is incorrect: {mask_path}\")\n",
    "\n",
    "    color_image = label_to_color(label_mask)\n",
    "    color_image_path = os.path.join(color_images_dir, mask_name)\n",
    "    #cv2.imwrite(color_image_path, color_image)\n",
    "    cv2.imwrite(color_image_path, cv2.cvtColor(color_image, cv2.COLOR_RGB2BGR))\n",
    "\n",
    "    # Optionally display the image\n",
    "    # cv2.imshow('Color Image', color_image)\n",
    "    # cv2.waitKey(0)\n",
    "\n",
    "# Optionally close any open windows if displaying images\n",
    "# cv2.destroyAllWindows()"
   ]
  },
  {
   "cell_type": "markdown",
   "metadata": {},
   "source": [
    "## Check the conversion"
   ]
  },
  {
   "cell_type": "code",
   "execution_count": 5,
   "metadata": {},
   "outputs": [],
   "source": [
    "colors_platte = np.array([\n",
    "    [0, 0, 0],        # Unlabeled\n",
    "    [70, 70, 70],     # Building\n",
    "    [100, 40, 40],    # Fence\n",
    "    [55, 90, 80],     # Other\n",
    "    [220, 20, 60],    # Pedestrian\n",
    "    [153, 153, 153],  # Pole\n",
    "    [157, 234, 50],   # RoadLine\n",
    "    [128, 64, 128],   # Road\n",
    "    [244, 35, 232],   # SideWalk\n",
    "    [107, 142, 35],   # Vegetation\n",
    "    [0, 0, 142],      # Vehicles\n",
    "    [102, 102, 156],  # Wall\n",
    "    [220, 220, 0],    # TrafficSign\n",
    "    [70, 130, 180],   # Sky\n",
    "    [81, 0, 81],      # Ground\n",
    "    [150, 100, 100],  # Bridge\n",
    "    [230, 150, 140],  # RailTrack\n",
    "    [180, 165, 180],  # GuardRail\n",
    "    [250, 170, 30],   # TrafficLight\n",
    "    [110, 190, 160],  # Static\n",
    "    [170, 120, 50],   # Dynamic\n",
    "    [45, 60, 150],    # Water\n",
    "    [145, 170, 100]   # Terrain\n",
    "])\n",
    "color_to_index = {tuple(color): idx for idx, color in enumerate(colors_platte)}\n",
    "index_to_color = {idx: color for idx, color in enumerate(colors_platte)}"
   ]
  },
  {
   "cell_type": "code",
   "execution_count": 6,
   "metadata": {},
   "outputs": [],
   "source": [
    "def color_to_label(mask):\n",
    "    label_mask = np.zeros(mask.shape[:2], dtype=np.uint8)\n",
    "    for color, idx in color_to_index.items():\n",
    "        label_mask[np.all(mask == color, axis=-1)] = idx\n",
    "    return label_mask\n"
   ]
  },
  {
   "cell_type": "code",
   "execution_count": 7,
   "metadata": {},
   "outputs": [],
   "source": [
    "def label_to_color(label_mask):\n",
    "    color_image = np.zeros((*label_mask.shape, 3), dtype=np.uint8)\n",
    "    for idx, color in index_to_color.items():\n",
    "        color_image[label_mask == idx] = color\n",
    "    return color_image\n"
   ]
  },
  {
   "cell_type": "code",
   "execution_count": 8,
   "metadata": {},
   "outputs": [
    {
     "name": "stdout",
     "output_type": "stream",
     "text": [
      "(720, 1280)\n"
     ]
    },
    {
     "data": {
      "image/png": "[encoded data removed]",
      "text/plain": [
       "<Figure size 1000x500 with 2 Axes>"
      ]
     },
     "metadata": {},
     "output_type": "display_data"
    }
   ],
   "source": [
    "image_path = '/home/elahed/users/elahe/segmentation/segment/seg/image_2024-08-08-12-55_00002612.png'\n",
    "image = cv2.imread(image_path)\n",
    "image_rgb = cv2.cvtColor(image, cv2.COLOR_BGR2RGB)\n",
    "msk1 = color_to_label(image_rgb)\n",
    "print(msk1.shape)\n",
    "cv2.imwrite('img.png',msk1)\n",
    "img = cv2.imread('img.png', cv2.IMREAD_GRAYSCALE)\n",
    "output = label_to_color(msk1)\n",
    "output2 = label_to_color(img)\n",
    "cv2.imwrite('output2.png',output2)\n",
    "\n",
    "plt.figure(figsize=(10, 5))\n",
    "\n",
    "plt.subplot(1, 2, 1)\n",
    "plt.title('Image 1')\n",
    "plt.imshow(output)\n",
    "\n",
    "plt.subplot(1, 2, 2)\n",
    "plt.title('Image 2')\n",
    "plt.imshow(output2)\n",
    "\n",
    "\n",
    "plt.show()\n"
   ]
  }
 ],
 "metadata": {
  "kernelspec": {
   "display_name": "myenv",
   "language": "python",
   "name": "python3"
  },
  "language_info": {
   "codemirror_mode": {
    "name": "ipython",
    "version": 3
   },
   "file_extension": ".py",
   "mimetype": "text/x-python",
   "name": "python",
   "nbconvert_exporter": "python",
   "pygments_lexer": "ipython3",
   "version": "3.8.19"
  }
 },
 "nbformat": 4,
 "nbformat_minor": 2
}
